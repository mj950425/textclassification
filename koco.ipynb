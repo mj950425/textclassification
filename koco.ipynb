{
  "nbformat": 4,
  "nbformat_minor": 0,
  "metadata": {
    "colab": {
      "name": "koco.ipynb",
      "provenance": [],
      "collapsed_sections": [],
      "mount_file_id": "1pds_kjY_hyVIDvTps59Y6jPF_KLc02FU",
      "authorship_tag": "ABX9TyPFVZ8IhTZvWlqWX971Buji",
      "include_colab_link": true
    },
    "kernelspec": {
      "name": "python3",
      "display_name": "Python 3"
    },
    "language_info": {
      "name": "python"
    },
    "accelerator": "GPU"
  },
  "cells": [
    {
      "cell_type": "markdown",
      "metadata": {
        "id": "view-in-github",
        "colab_type": "text"
      },
      "source": [
        "<a href=\"https://colab.research.google.com/github/mj950425/textclassification/blob/main/koco.ipynb\" target=\"_parent\"><img src=\"https://colab.research.google.com/assets/colab-badge.svg\" alt=\"Open In Colab\"/></a>"
      ]
    },
    {
      "cell_type": "code",
      "metadata": {
        "colab": {
          "base_uri": "https://localhost:8080/",
          "height": 35
        },
        "id": "Dl5CKZqxCu7X",
        "outputId": "2fbf9096-c44c-4187-ea06-2e9be37c4e18"
      },
      "source": [
        "import os\n",
        "os.getcwd()\n"
      ],
      "execution_count": null,
      "outputs": [
        {
          "output_type": "execute_result",
          "data": {
            "application/vnd.google.colaboratory.intrinsic+json": {
              "type": "string"
            },
            "text/plain": [
              "'/content'"
            ]
          },
          "metadata": {
            "tags": []
          },
          "execution_count": 1
        }
      ]
    },
    {
      "cell_type": "code",
      "metadata": {
        "id": "-zF_JaGaCyD4"
      },
      "source": [
        "os.chdir(\"/content/drive/MyDrive/detox\")\n"
      ],
      "execution_count": null,
      "outputs": []
    },
    {
      "cell_type": "code",
      "metadata": {
        "colab": {
          "base_uri": "https://localhost:8080/",
          "height": 35
        },
        "id": "1q_hLwtzC1HH",
        "outputId": "18881ab0-11b2-481f-8553-d0b3d30718d4"
      },
      "source": [
        "os.getcwd()\n"
      ],
      "execution_count": null,
      "outputs": [
        {
          "output_type": "execute_result",
          "data": {
            "application/vnd.google.colaboratory.intrinsic+json": {
              "type": "string"
            },
            "text/plain": [
              "'/content/drive/MyDrive/detox'"
            ]
          },
          "metadata": {
            "tags": []
          },
          "execution_count": 3
        }
      ]
    },
    {
      "cell_type": "code",
      "metadata": {
        "colab": {
          "base_uri": "https://localhost:8080/"
        },
        "id": "cjf68z7VC12b",
        "outputId": "cdfce186-e4c5-42c0-cfb0-fd94cde650ad"
      },
      "source": [
        "# !git clone https://github.com/inmoonlight/detox.git"
      ],
      "execution_count": null,
      "outputs": [
        {
          "output_type": "stream",
          "text": [
            "Cloning into 'detox'...\n",
            "remote: Enumerating objects: 187, done.\u001b[K\n",
            "remote: Counting objects: 100% (187/187), done.\u001b[K\n",
            "remote: Compressing objects: 100% (126/126), done.\u001b[K\n",
            "remote: Total 187 (delta 96), reused 128 (delta 55), pack-reused 0\u001b[K\n",
            "Receiving objects: 100% (187/187), 1.03 MiB | 2.35 MiB/s, done.\n",
            "Resolving deltas: 100% (96/96), done.\n"
          ],
          "name": "stdout"
        }
      ]
    },
    {
      "cell_type": "code",
      "metadata": {
        "colab": {
          "base_uri": "https://localhost:8080/"
        },
        "id": "W6Ahj6afCgBR",
        "outputId": "f7914f48-4933-4d59-f9f3-48e9aaba25bb"
      },
      "source": [
        "!pip install -r requirements.txt"
      ],
      "execution_count": null,
      "outputs": [
        {
          "output_type": "stream",
          "text": [
            "Requirement already satisfied: torch>=1.6.0 in /usr/local/lib/python3.7/dist-packages (from -r requirements.txt (line 1)) (1.8.1+cu101)\n",
            "Requirement already satisfied: torchtext>=0.7.0 in /usr/local/lib/python3.7/dist-packages (from -r requirements.txt (line 2)) (0.9.1)\n",
            "Collecting transformers==3.0.2\n",
            "\u001b[?25l  Downloading https://files.pythonhosted.org/packages/27/3c/91ed8f5c4e7ef3227b4119200fc0ed4b4fd965b1f0172021c25701087825/transformers-3.0.2-py3-none-any.whl (769kB)\n",
            "\u001b[K     |████████████████████████████████| 778kB 12.3MB/s \n",
            "\u001b[?25hCollecting pytorch-ignite>=0.4.1\n",
            "\u001b[?25l  Downloading https://files.pythonhosted.org/packages/f8/d3/640f70d69393b415e6a29b27c735047ad86267921ad62682d1d756556d48/pytorch_ignite-0.4.4-py3-none-any.whl (200kB)\n",
            "\u001b[K     |████████████████████████████████| 204kB 29.9MB/s \n",
            "\u001b[?25hCollecting koco>=0.2.3\n",
            "  Downloading https://files.pythonhosted.org/packages/53/47/f948e856528595fa181cd63d7b52d2da64a10025f42ea3809ace96c742e3/koco-0.2.3.tar.gz\n",
            "Collecting omegaconf>=2.0.0\n",
            "  Downloading https://files.pythonhosted.org/packages/d0/eb/9d63ce09dd8aa85767c65668d5414958ea29648a0eec80a4a7d311ec2684/omegaconf-2.0.6-py3-none-any.whl\n",
            "Collecting kobert-transformers>=0.4.1\n",
            "  Downloading https://files.pythonhosted.org/packages/f3/6d/f4e21513c1f26cacd68c144a428ccaa90dd92d85985e878976ebbaf06624/kobert_transformers-0.4.1-py3-none-any.whl\n",
            "Requirement already satisfied: typing-extensions in /usr/local/lib/python3.7/dist-packages (from torch>=1.6.0->-r requirements.txt (line 1)) (3.7.4.3)\n",
            "Requirement already satisfied: numpy in /usr/local/lib/python3.7/dist-packages (from torch>=1.6.0->-r requirements.txt (line 1)) (1.19.5)\n",
            "Requirement already satisfied: requests in /usr/local/lib/python3.7/dist-packages (from torchtext>=0.7.0->-r requirements.txt (line 2)) (2.23.0)\n",
            "Requirement already satisfied: tqdm in /usr/local/lib/python3.7/dist-packages (from torchtext>=0.7.0->-r requirements.txt (line 2)) (4.41.1)\n",
            "Collecting sacremoses\n",
            "\u001b[?25l  Downloading https://files.pythonhosted.org/packages/08/cd/342e584ee544d044fb573ae697404ce22ede086c9e87ce5960772084cad0/sacremoses-0.0.44.tar.gz (862kB)\n",
            "\u001b[K     |████████████████████████████████| 870kB 32.9MB/s \n",
            "\u001b[?25hRequirement already satisfied: filelock in /usr/local/lib/python3.7/dist-packages (from transformers==3.0.2->-r requirements.txt (line 3)) (3.0.12)\n",
            "Requirement already satisfied: regex!=2019.12.17 in /usr/local/lib/python3.7/dist-packages (from transformers==3.0.2->-r requirements.txt (line 3)) (2019.12.20)\n",
            "Collecting sentencepiece!=0.1.92\n",
            "\u001b[?25l  Downloading https://files.pythonhosted.org/packages/f5/99/e0808cb947ba10f575839c43e8fafc9cc44e4a7a2c8f79c60db48220a577/sentencepiece-0.1.95-cp37-cp37m-manylinux2014_x86_64.whl (1.2MB)\n",
            "\u001b[K     |████████████████████████████████| 1.2MB 47.3MB/s \n",
            "\u001b[?25hRequirement already satisfied: packaging in /usr/local/lib/python3.7/dist-packages (from transformers==3.0.2->-r requirements.txt (line 3)) (20.9)\n",
            "Collecting tokenizers==0.8.1.rc1\n",
            "\u001b[?25l  Downloading https://files.pythonhosted.org/packages/02/59/68c7e3833f535615fb97d33ffcb7b30bbf62bc7477a9c59cd19ad8535d72/tokenizers-0.8.1rc1-cp37-cp37m-manylinux1_x86_64.whl (3.0MB)\n",
            "\u001b[K     |████████████████████████████████| 3.0MB 40.5MB/s \n",
            "\u001b[?25hRequirement already satisfied: pandas>=1.0.3 in /usr/local/lib/python3.7/dist-packages (from koco>=0.2.3->-r requirements.txt (line 5)) (1.1.5)\n",
            "Collecting wget>=3.2\n",
            "  Downloading https://files.pythonhosted.org/packages/47/6a/62e288da7bcda82b935ff0c6cfe542970f04e29c756b0e147251b2fb251f/wget-3.2.zip\n",
            "Collecting PyYAML>=5.1.*\n",
            "\u001b[?25l  Downloading https://files.pythonhosted.org/packages/7a/a5/393c087efdc78091afa2af9f1378762f9821c9c1d7a22c5753fb5ac5f97a/PyYAML-5.4.1-cp37-cp37m-manylinux1_x86_64.whl (636kB)\n",
            "\u001b[K     |████████████████████████████████| 645kB 42.3MB/s \n",
            "\u001b[?25hRequirement already satisfied: idna<3,>=2.5 in /usr/local/lib/python3.7/dist-packages (from requests->torchtext>=0.7.0->-r requirements.txt (line 2)) (2.10)\n",
            "Requirement already satisfied: urllib3!=1.25.0,!=1.25.1,<1.26,>=1.21.1 in /usr/local/lib/python3.7/dist-packages (from requests->torchtext>=0.7.0->-r requirements.txt (line 2)) (1.24.3)\n",
            "Requirement already satisfied: certifi>=2017.4.17 in /usr/local/lib/python3.7/dist-packages (from requests->torchtext>=0.7.0->-r requirements.txt (line 2)) (2020.12.5)\n",
            "Requirement already satisfied: chardet<4,>=3.0.2 in /usr/local/lib/python3.7/dist-packages (from requests->torchtext>=0.7.0->-r requirements.txt (line 2)) (3.0.4)\n",
            "Requirement already satisfied: six in /usr/local/lib/python3.7/dist-packages (from sacremoses->transformers==3.0.2->-r requirements.txt (line 3)) (1.15.0)\n",
            "Requirement already satisfied: click in /usr/local/lib/python3.7/dist-packages (from sacremoses->transformers==3.0.2->-r requirements.txt (line 3)) (7.1.2)\n",
            "Requirement already satisfied: joblib in /usr/local/lib/python3.7/dist-packages (from sacremoses->transformers==3.0.2->-r requirements.txt (line 3)) (1.0.1)\n",
            "Requirement already satisfied: pyparsing>=2.0.2 in /usr/local/lib/python3.7/dist-packages (from packaging->transformers==3.0.2->-r requirements.txt (line 3)) (2.4.7)\n",
            "Requirement already satisfied: pytz>=2017.2 in /usr/local/lib/python3.7/dist-packages (from pandas>=1.0.3->koco>=0.2.3->-r requirements.txt (line 5)) (2018.9)\n",
            "Requirement already satisfied: python-dateutil>=2.7.3 in /usr/local/lib/python3.7/dist-packages (from pandas>=1.0.3->koco>=0.2.3->-r requirements.txt (line 5)) (2.8.1)\n",
            "Building wheels for collected packages: koco, sacremoses, wget\n",
            "  Building wheel for koco (setup.py) ... \u001b[?25l\u001b[?25hdone\n",
            "  Created wheel for koco: filename=koco-0.2.3-cp37-none-any.whl size=7363 sha256=3e18fdd2dd69d6edfd09a55a351409713e8c09649ff5e23f35ac29bfa74ee1f9\n",
            "  Stored in directory: /root/.cache/pip/wheels/bd/92/69/283e258d3f59e4062561e47fb3598cbcbf103ad7c181af3bce\n",
            "  Building wheel for sacremoses (setup.py) ... \u001b[?25l\u001b[?25hdone\n",
            "  Created wheel for sacremoses: filename=sacremoses-0.0.44-cp37-none-any.whl size=886084 sha256=247e3f48095d067f74cd31b3bed7d91069827b28e3925f85b3afc23ecade6c27\n",
            "  Stored in directory: /root/.cache/pip/wheels/3e/fb/c0/13ab4d63d537658f448366744654323077c4d90069b6512f3c\n",
            "  Building wheel for wget (setup.py) ... \u001b[?25l\u001b[?25hdone\n",
            "  Created wheel for wget: filename=wget-3.2-cp37-none-any.whl size=9681 sha256=38aad49a8e0dc17b7c5a5bee4cd1cc7a3fe4735fff62635834ffe9f07f0005da\n",
            "  Stored in directory: /root/.cache/pip/wheels/40/15/30/7d8f7cea2902b4db79e3fea550d7d7b85ecb27ef992b618f3f\n",
            "Successfully built koco sacremoses wget\n",
            "Installing collected packages: sacremoses, sentencepiece, tokenizers, transformers, pytorch-ignite, wget, koco, PyYAML, omegaconf, kobert-transformers\n",
            "  Found existing installation: PyYAML 3.13\n",
            "    Uninstalling PyYAML-3.13:\n",
            "      Successfully uninstalled PyYAML-3.13\n",
            "Successfully installed PyYAML-5.4.1 kobert-transformers-0.4.1 koco-0.2.3 omegaconf-2.0.6 pytorch-ignite-0.4.4 sacremoses-0.0.44 sentencepiece-0.1.95 tokenizers-0.8.1rc1 transformers-3.0.2 wget-3.2\n"
          ],
          "name": "stdout"
        }
      ]
    },
    {
      "cell_type": "code",
      "metadata": {
        "colab": {
          "base_uri": "https://localhost:8080/"
        },
        "id": "RyswPnOODclv",
        "outputId": "bb35211a-7a15-49a3-b9d1-0df3ec9483ac"
      },
      "source": [
        "!python finetune_bert.py --config /content/drive/MyDrive/detox/configs/kcbert-large.yaml"
      ],
      "execution_count": null,
      "outputs": [
        {
          "output_type": "stream",
          "text": [
            "2021-04-05 08:43:33.703684: I tensorflow/stream_executor/platform/default/dso_loader.cc:49] Successfully opened dynamic library libcudart.so.11.0\n",
            "Downloading: 100% 672/672 [00:00<00:00, 607kB/s]\n",
            "Downloading: 100% 250k/250k [00:00<00:00, 6.47MB/s]\n",
            "Downloading: 100% 49.0/49.0 [00:00<00:00, 41.2kB/s]\n",
            "Downloading: 100% 1.34G/1.34G [00:22<00:00, 60.8MB/s]\n",
            "Some weights of the model checkpoint at beomi/kcbert-large were not used when initializing BertForSequenceClassification: ['cls.predictions.bias', 'cls.predictions.transform.dense.weight', 'cls.predictions.transform.dense.bias', 'cls.predictions.transform.LayerNorm.weight', 'cls.predictions.transform.LayerNorm.bias', 'cls.predictions.decoder.weight', 'cls.predictions.decoder.bias', 'cls.seq_relationship.weight', 'cls.seq_relationship.bias']\n",
            "- This IS expected if you are initializing BertForSequenceClassification from the checkpoint of a model trained on another task or with another architecture (e.g. initializing a BertForSequenceClassification model from a BertForPretraining model).\n",
            "- This IS NOT expected if you are initializing BertForSequenceClassification from the checkpoint of a model that you expect to be exactly identical (initializing a BertForSequenceClassification model from a BertForSequenceClassification model).\n",
            "Some weights of BertForSequenceClassification were not initialized from the model checkpoint at beomi/kcbert-large and are newly initialized: ['classifier.weight', 'classifier.bias']\n",
            "You should probably TRAIN this model on a down-stream task to be able to use it for predictions and inference.\n",
            "Epoch 1 >> |params|=1.04e+01 |grad|=1.04e+01 loss=8.3994e-01 accuracy=0.6024\n",
            "Validation >> loss=7.8647e-01 accuracy=0.6681 best_loss=inf\n",
            "Epoch 2 >> |params|=8.57e+00 |grad|=8.57e+00 loss=6.8007e-01 accuracy=0.6806\n",
            "Validation >> loss=7.0892e-01 accuracy=0.6925 best_loss=7.8647e-01\n",
            "Epoch 3 >> |params|=9.90e+00 |grad|=9.90e+00 loss=4.0933e-01 accuracy=0.8353\n",
            "Validation >> loss=9.9104e-01 accuracy=0.5968 best_loss=7.0892e-01\n",
            "Epoch 4 >> |params|=9.64e+00 |grad|=9.64e+00 loss=1.8018e-01 accuracy=0.9350\n",
            "Validation >> loss=1.1475e+00 accuracy=0.6577 best_loss=7.0892e-01\n",
            "Epoch 5 >> |params|=8.52e+00 |grad|=8.52e+00 loss=9.5664e-02 accuracy=0.9684\n",
            "Validation >> loss=1.4166e+00 accuracy=0.5917 best_loss=7.0892e-01\n",
            "Epoch 6 >> |params|=5.65e+00 |grad|=5.65e+00 loss=4.6093e-02 accuracy=0.9863\n",
            "Validation >> loss=1.9857e+00 accuracy=0.5422 best_loss=7.0892e-01\n",
            "Epoch 7 >> |params|=4.51e+00 |grad|=4.51e+00 loss=2.1754e-02 accuracy=0.9934\n",
            "Validation >> loss=1.7577e+00 accuracy=0.6180 best_loss=7.0892e-01\n",
            "Epoch 8 >> |params|=2.33e+00 |grad|=2.33e+00 loss=1.0420e-02 accuracy=0.9970\n",
            "Validation >> loss=2.0448e+00 accuracy=0.6157 best_loss=7.0892e-01\n",
            "Epoch 9 >> |params|=1.28e+00 |grad|=1.28e+00 loss=5.2545e-03 accuracy=0.9984\n",
            "Validation >> loss=2.0893e+00 accuracy=0.6398 best_loss=7.0892e-01\n",
            "Epoch 10 >> |params|=5.74e-01 |grad|=5.74e-01 loss=2.4355e-03 accuracy=0.9991\n",
            "Validation >> loss=2.1101e+00 accuracy=0.6382 best_loss=7.0892e-01\n"
          ],
          "name": "stdout"
        }
      ]
    },
    {
      "cell_type": "code",
      "metadata": {
        "colab": {
          "base_uri": "https://localhost:8080/"
        },
        "id": "cXvA7RE-DLfQ",
        "outputId": "ab0139e3-b70e-4af8-d846-2a492e3e50ba"
      },
      "source": [
        "!python predict.py --config configs/kcbert-large.yaml --filepath example/example.txt --save"
      ],
      "execution_count": null,
      "outputs": [
        {
          "output_type": "stream",
          "text": [
            "2021-04-05 10:47:05.304376: I tensorflow/stream_executor/platform/default/dso_loader.cc:49] Successfully opened dynamic library libcudart.so.11.0\n",
            "Some weights of the model checkpoint at beomi/kcbert-large were not used when initializing BertForSequenceClassification: ['cls.predictions.bias', 'cls.predictions.transform.dense.weight', 'cls.predictions.transform.dense.bias', 'cls.predictions.transform.LayerNorm.weight', 'cls.predictions.transform.LayerNorm.bias', 'cls.predictions.decoder.weight', 'cls.predictions.decoder.bias', 'cls.seq_relationship.weight', 'cls.seq_relationship.bias']\n",
            "- This IS expected if you are initializing BertForSequenceClassification from the checkpoint of a model trained on another task or with another architecture (e.g. initializing a BertForSequenceClassification model from a BertForPretraining model).\n",
            "- This IS NOT expected if you are initializing BertForSequenceClassification from the checkpoint of a model that you expect to be exactly identical (initializing a BertForSequenceClassification model from a BertForSequenceClassification model).\n",
            "Some weights of BertForSequenceClassification were not initialized from the model checkpoint at beomi/kcbert-large and are newly initialized: ['classifier.weight', 'classifier.bias']\n",
            "You should probably TRAIN this model on a down-stream task to be able to use it for predictions and inference.\n"
          ],
          "name": "stdout"
        }
      ]
    },
    {
      "cell_type": "code",
      "metadata": {
        "id": "rzUditEBDT6H"
      },
      "source": [
        ""
      ],
      "execution_count": null,
      "outputs": []
    }
  ]
}